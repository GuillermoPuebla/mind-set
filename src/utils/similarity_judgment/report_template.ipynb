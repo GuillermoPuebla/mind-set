{
 "cells": [
  {
   "cell_type": "code",
   "execution_count": 2,
   "metadata": {
    "tags": [
     "parameters"
    ]
   },
   "outputs": [],
   "source": [
    "dataframe_path = \"default_path\"\n",
    "idx_layer_used = -1\n",
    "list_comparison_levels = None\n",
    "report_folder = None"
   ]
  },
  {
   "cell_type": "code",
   "execution_count": null,
   "metadata": {},
   "outputs": [],
   "source": [
    "import re\n",
    "from IPython.display import display, Markdown\n",
    "import pandas as pd\n",
    "from pathlib import Path\n",
    "import matplotlib.pyplot as plt\n",
    "import pathlib"
   ]
  },
  {
   "cell_type": "code",
   "execution_count": null,
   "metadata": {},
   "outputs": [],
   "source": [
    "report_folder = (\n",
    "    pathlib.Path(dataframe_path).parent / \"report\"\n",
    "    if report_folder is None\n",
    "    else pathlib.Path(report_folder)\n",
    ")\n",
    "report_folder.mkdir(exist_ok=True, parents=True)\n",
    "df = pd.read_csv(dataframe_path)\n",
    "pattern = re.compile(r\"^\\d+: .*$\")\n",
    "layers_names = [col for col in df.columns if pattern.match(col)]\n",
    "\n",
    "if list_comparison_levels is not None:\n",
    "    df = df[df[\"ComparisonLevel\"].isin(list_comparison_levels)]\n",
    "\n",
    "num_layers = len(layers_names) - 1\n",
    "\n",
    "display(\n",
    "    Markdown(\n",
    "        f\"# Analysis for dataset ***{dataframe_path}***\\n, LayerIdx: ***{idx_layer_used}***\"\n",
    "    )\n",
    ")\n",
    "\n",
    "name_layer_used = layers_names[idx_layer_used]\n",
    "\n",
    "mean_distances = df.groupby(\"ComparisonLevel\").mean()\n",
    "mean_distances_std = df.groupby(\"ComparisonLevel\").std()\n",
    "\n",
    "mean_distances_t_targeted_layer = mean_distances[name_layer_used].transpose()\n",
    "mean_distances_t_targeted_layer_std = mean_distances_std[name_layer_used].transpose()\n",
    "\n",
    "if list_comparison_levels is not None:\n",
    "    mean_distances_t_targeted_layer = mean_distances_t_targeted_layer.reindex(\n",
    "        list_comparison_levels\n",
    "    )\n",
    "    mean_distances_t_targeted_layer_std = mean_distances_t_targeted_layer_std.reindex(\n",
    "        list_comparison_levels\n",
    "    )"
   ]
  },
  {
   "cell_type": "code",
   "execution_count": null,
   "metadata": {},
   "outputs": [],
   "source": [
    "plt.figure(figsize=(5, 6))\n",
    "plt.bar(\n",
    "    mean_distances_t_targeted_layer.index,\n",
    "    mean_distances_t_targeted_layer.values,\n",
    "    yerr=mean_distances_t_targeted_layer_std,\n",
    "    color=[\"blue\", \"orange\"],\n",
    ")\n",
    "plt.title(\n",
    "    f\"Average Euclidean Distance for Layer {idx_layer_used}/{num_layers}: {name_layer_used}\"\n",
    ")\n",
    "plt.xlabel(\"Comparison Level\")\n",
    "plt.ylabel(\"Average Euclidean Distance\")\n",
    "plt.savefig(\n",
    "    str(pathlib.Path(report_folder) / \"barplot_comparion_level_aggregated.png\"),\n",
    "    facecolor=\"white\",\n",
    ")\n",
    "plt.show()"
   ]
  },
  {
   "cell_type": "code",
   "execution_count": null,
   "metadata": {},
   "outputs": [],
   "source": [
    "from statsmodels.stats.anova import AnovaRM\n",
    "\n",
    "r = AnovaRM(\n",
    "    data=df,\n",
    "    depvar=name_layer_used,\n",
    "    subject=\"MatchingLevels\",\n",
    "    within=[\"ComparisonLevel\"],\n",
    "    aggregate_func=\"mean\",\n",
    ").fit()\n",
    "\n",
    "print(r.anova_table)"
   ]
  },
  {
   "cell_type": "code",
   "execution_count": null,
   "metadata": {},
   "outputs": [],
   "source": [
    "grouped = df.groupby([\"ComparisonLevel\", \"MatchingLevels\"]).mean()\n",
    "std_dev = df.groupby([\"ComparisonLevel\", \"MatchingLevels\"]).std()\n",
    "\n",
    "grouped = grouped.reset_index()\n",
    "std_dev = std_dev.reset_index()\n",
    "\n",
    "if grouped[\"MatchingLevels\"].str.strip(\"[]\").str.isdigit().all():\n",
    "    grouped[\"MatchingLevels\"] = grouped[\"MatchingLevels\"].str.strip(\"[]\").astype(int)\n",
    "    grouped = grouped.sort_values(\"MatchingLevels\")\n",
    "\n",
    "    std_dev[\"MatchingLevels\"] = std_dev[\"MatchingLevels\"].str.strip(\"[]\").astype(int)\n",
    "    std_dev = std_dev.sort_values(\"MatchingLevels\")\n",
    "\n",
    "# Set the index again\n",
    "grouped = grouped.set_index([\"ComparisonLevel\", \"MatchingLevels\"])\n",
    "std_dev = std_dev.set_index([\"ComparisonLevel\", \"MatchingLevels\"])\n",
    "\n",
    "last_layer = grouped[name_layer_used].unstack()\n",
    "last_layer_std = std_dev[name_layer_used].unstack()\n",
    "\n",
    "last_layer_transposed = last_layer.transpose()\n",
    "base_width = 10\n",
    "additional_width_per_bar = 0.5\n",
    "num_bars = len(last_layer_transposed)\n",
    "fig_width = base_width + num_bars * additional_width_per_bar\n",
    "\n",
    "fig, ax = plt.subplots(figsize=(fig_width, 6))\n",
    "ax.set_facecolor(\"white\")\n",
    "ax.figure.set_facecolor(\"white\")\n",
    "\n",
    "last_layer_transposed.plot(\n",
    "    kind=\"bar\", yerr=last_layer_std.transpose(), capsize=0, ax=ax\n",
    ")\n",
    "\n",
    "plt.title(\n",
    "    f\"Average Euclidean Distance for Layer {idx_layer_used}/{num_layers}: {name_layer_used}\"\n",
    ")\n",
    "\n",
    "plt.xlabel(\"Sample Name\")\n",
    "plt.ylabel(\"Average Euclidean Distance\")\n",
    "plt.legend(title=\"Comparison Level\")\n",
    "plt.savefig(\n",
    "    str(pathlib.Path(report_folder) / \"barplot_comparion_level_all_samples.png\"),\n",
    "    facecolor=\"white\",\n",
    ")\n",
    "plt.show()"
   ]
  }
 ],
 "metadata": {
  "kernelspec": {
   "display_name": "base",
   "language": "python",
   "name": "python3"
  },
  "language_info": {
   "codemirror_mode": {
    "name": "ipython",
    "version": 3
   },
   "file_extension": ".py",
   "mimetype": "text/x-python",
   "name": "python",
   "nbconvert_exporter": "python",
   "pygments_lexer": "ipython3",
   "version": "3.9.13"
  },
  "orig_nbformat": 4
 },
 "nbformat": 4,
 "nbformat_minor": 2
}
